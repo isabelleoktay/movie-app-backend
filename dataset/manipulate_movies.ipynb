{
 "cells": [
  {
   "cell_type": "markdown",
   "metadata": {},
   "source": [
    "### GOAL\n",
    "* Manipulate separate CSV files into JSON using Pandas so that the data can be easily inputted into MongoDB Atlas\n",
    "* Merge separate CSV files based on Movie ID\n",
    "* Remove unnecessary columns\n",
    "* Ensure data in all columns are the right type and format "
   ]
  },
  {
   "cell_type": "code",
   "execution_count": null,
   "metadata": {},
   "outputs": [],
   "source": []
  },
  {
   "cell_type": "code",
   "execution_count": 4,
   "metadata": {},
   "outputs": [],
   "source": [
    "import pandas as pd"
   ]
  },
  {
   "cell_type": "markdown",
   "metadata": {},
   "source": [
    "* Reading in movies, links, tags, and ratings CSV files and converting them to dataframes\n",
    "* Converting the type of movieId to int\n",
    "* Converting the type of links to string"
   ]
  },
  {
   "cell_type": "code",
   "execution_count": 100,
   "metadata": {},
   "outputs": [],
   "source": [
    "movies = pd.read_csv('movies.csv')\n",
    "links = pd.read_csv('links.csv', dtype = str)\n",
    "links['movieId'] = links['movieId'].astype(int)\n",
    "ratings = pd.read_csv('ratings.csv')\n",
    "tags = pd.read_csv('tags.csv')\n"
   ]
  },
  {
   "cell_type": "markdown",
   "metadata": {},
   "source": [
    "* Creating a new dataframe dataset\n",
    "* Merging all of the dataframes on movieId"
   ]
  },
  {
   "cell_type": "code",
   "execution_count": 101,
   "metadata": {},
   "outputs": [],
   "source": [
    "dataset = pd.merge(movies, tags, on='movieId')\n",
    "dataset = pd.merge(dataset, links, on='movieId')\n",
    "dataset = pd.merge(dataset, ratings, on='movieId')"
   ]
  },
  {
   "cell_type": "markdown",
   "metadata": {},
   "source": [
    "*  Dropping unnecessary columns"
   ]
  },
  {
   "cell_type": "code",
   "execution_count": 102,
   "metadata": {},
   "outputs": [],
   "source": [
    "dataset = dataset.drop(columns=['userId_x','timestamp_x', 'userId_y', 'timestamp_y'])"
   ]
  },
  {
   "cell_type": "markdown",
   "metadata": {},
   "source": [
    "* Grouping by movieId\n",
    "* Calculating the average rating\n",
    "* Combining all separate tags into a list"
   ]
  },
  {
   "cell_type": "code",
   "execution_count": 103,
   "metadata": {},
   "outputs": [],
   "source": [
    "dataset = dataset.groupby('movieId', as_index=False).agg({'title': 'first', 'genres' : 'first', 'imdbId': 'first', 'tmdbId': 'first', 'rating': 'mean', 'tag': lambda x: list(x)})"
   ]
  },
  {
   "cell_type": "markdown",
   "metadata": {},
   "source": [
    "* Rounding the rating to the nearest tenths place\n",
    "* Formatting links with urls\n",
    "* Removing repeat tags from the tag lists"
   ]
  },
  {
   "cell_type": "code",
   "execution_count": 104,
   "metadata": {},
   "outputs": [],
   "source": [
    "dataset['rating'] = dataset['rating'].apply(lambda x: round(x, 1))\n",
    "dataset['imdbId'] = dataset['imdbId'].apply(lambda x: f'https://www.imdb.com/title/tt{x}/')\n",
    "dataset['tmdbId'] = dataset['tmdbId'].apply(lambda x: f'https://www.themoviedb.org/movie/{x}/')\n",
    "dataset['tag'] = dataset['tag'].apply(lambda x: list(set(x)))"
   ]
  },
  {
   "cell_type": "markdown",
   "metadata": {},
   "source": [
    "* Combining imdbId and tmdbId columns into a new single link column\n",
    "* Dropping imdbId and tmdbId columns"
   ]
  },
  {
   "cell_type": "code",
   "execution_count": 105,
   "metadata": {},
   "outputs": [],
   "source": [
    "cols = ['imdbId', 'tmdbId']\n",
    "dataset['links'] = dataset[cols].values.tolist()\n",
    "dataset.drop(cols, axis=1, inplace=True)"
   ]
  },
  {
   "cell_type": "markdown",
   "metadata": {},
   "source": [
    "* Exporting data into a JSON file"
   ]
  },
  {
   "cell_type": "code",
   "execution_count": 106,
   "metadata": {},
   "outputs": [],
   "source": [
    "dataset.to_json('movies.json', orient = 'records', compression = 'infer')"
   ]
  }
 ],
 "metadata": {
  "kernelspec": {
   "display_name": "Python 3.9.7 ('base')",
   "language": "python",
   "name": "python3"
  },
  "language_info": {
   "codemirror_mode": {
    "name": "ipython",
    "version": 3
   },
   "file_extension": ".py",
   "mimetype": "text/x-python",
   "name": "python",
   "nbconvert_exporter": "python",
   "pygments_lexer": "ipython3",
   "version": "3.9.7"
  },
  "orig_nbformat": 4,
  "vscode": {
   "interpreter": {
    "hash": "40d3a090f54c6569ab1632332b64b2c03c39dcf918b08424e98f38b5ae0af88f"
   }
  }
 },
 "nbformat": 4,
 "nbformat_minor": 2
}
